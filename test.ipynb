{
 "cells": [
  {
   "cell_type": "code",
   "execution_count": 1,
   "metadata": {},
   "outputs": [
    {
     "name": "stderr",
     "output_type": "stream",
     "text": [
      "/opt/anaconda3/envs/crewai_review_system/lib/python3.11/site-packages/pydantic/_internal/_config.py:341: UserWarning: Valid config keys have changed in V2:\n",
      "* 'allow_population_by_field_name' has been renamed to 'populate_by_name'\n",
      "* 'smart_union' has been removed\n",
      "  warnings.warn(message, UserWarning)\n"
     ]
    },
    {
     "name": "stdout",
     "output_type": "stream",
     "text": [
      "Agent stopped due to iteration limit or time limit.\n"
     ]
    }
   ],
   "source": [
    "from crewai import Crew, Process, Agent, Task\n",
    "from model import load_model\n",
    "\n",
    "model_id = \"anthropic.claude-3-5-sonnet-20240620-v1:0\"\n",
    "llm = load_model(model_id)\n",
    "# Define your agents\n",
    "researcher = Agent(\n",
    "  role='Researcher',\n",
    "  goal='Conduct foundational research',\n",
    "  backstory='An experienced researcher with a passion for uncovering insights',\n",
    "  llm=llm\n",
    ")\n",
    "analyst = Agent(\n",
    "  role='Data Analyst',\n",
    "  goal='Analyze research findings',\n",
    "  backstory='A meticulous analyst with a knack for uncovering patterns',\n",
    "  llm=llm\n",
    ")\n",
    "writer = Agent(\n",
    "  role='Writer',\n",
    "  goal='Draft the final report',\n",
    "  backstory='A skilled writer with a talent for crafting compelling narratives',\n",
    "  llm=llm\n",
    ")\n",
    "\n",
    "# Define your tasks\n",
    "research_task = Task(description='Gather relevant data...', agent=researcher, expected_output='Raw Data')\n",
    "analysis_task = Task(description='Analyze the data...', agent=analyst, expected_output='Data Insights')\n",
    "writing_task = Task(description='Compose the report...', agent=writer, expected_output='Final Report')\n",
    "\n",
    "# Form the crew with a sequential process\n",
    "report_crew = Crew(\n",
    "  agents=[researcher, analyst, writer],\n",
    "  tasks=[research_task, analysis_task, writing_task],\n",
    "  process=Process.sequential\n",
    ")\n",
    "\n",
    "# Execute the crew\n",
    "result = report_crew.kickoff()\n",
    "print(result)\n",
    "# Accessing the type safe output\n",
    "# task_output: TaskOutput = result.tasks[0].output\n",
    "# crew_output: CrewOutput = result.output"
   ]
  },
  {
   "cell_type": "code",
   "execution_count": null,
   "metadata": {},
   "outputs": [],
   "source": []
  }
 ],
 "metadata": {
  "kernelspec": {
   "display_name": "crewai_review_system",
   "language": "python",
   "name": "python3"
  },
  "language_info": {
   "codemirror_mode": {
    "name": "ipython",
    "version": 3
   },
   "file_extension": ".py",
   "mimetype": "text/x-python",
   "name": "python",
   "nbconvert_exporter": "python",
   "pygments_lexer": "ipython3",
   "version": "3.11.9"
  }
 },
 "nbformat": 4,
 "nbformat_minor": 2
}
