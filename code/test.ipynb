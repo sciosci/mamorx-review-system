{
 "cells": [
  {
   "cell_type": "code",
   "execution_count": 5,
   "metadata": {},
   "outputs": [
    {
     "ename": "ModuleNotFoundError",
     "evalue": "No module named 'code.model'; 'code' is not a package",
     "output_type": "error",
     "traceback": [
      "\u001b[0;31m---------------------------------------------------------------------------\u001b[0m",
      "\u001b[0;31mModuleNotFoundError\u001b[0m                       Traceback (most recent call last)",
      "Cell \u001b[0;32mIn[5], line 2\u001b[0m\n\u001b[1;32m      1\u001b[0m \u001b[38;5;28;01mfrom\u001b[39;00m \u001b[38;5;21;01mcrewai\u001b[39;00m \u001b[38;5;28;01mimport\u001b[39;00m Crew, Process, Agent, Task\n\u001b[0;32m----> 2\u001b[0m \u001b[38;5;28;01mfrom\u001b[39;00m \u001b[38;5;21;01mcode\u001b[39;00m\u001b[38;5;21;01m.\u001b[39;00m\u001b[38;5;21;01mmodel\u001b[39;00m \u001b[38;5;28;01mimport\u001b[39;00m load_model, list_avail_models\n\u001b[1;32m      3\u001b[0m \u001b[38;5;28;01mfrom\u001b[39;00m \u001b[38;5;21;01mcode\u001b[39;00m\u001b[38;5;21;01m.\u001b[39;00m\u001b[38;5;21;01mSemanticScholar\u001b[39;00m \u001b[38;5;28;01mimport\u001b[39;00m SemanticScholar,SS_Re\n\u001b[1;32m      5\u001b[0m \u001b[38;5;66;03m# list_avail_models()\u001b[39;00m\n",
      "\u001b[0;31mModuleNotFoundError\u001b[0m: No module named 'code.model'; 'code' is not a package"
     ]
    }
   ],
   "source": [
    "from crewai import Crew, Process, Agent, Task\n",
    "from code.model import load_model, list_avail_models\n",
    "from code.SemanticScholar import SemanticScholar,SS_Re\n",
    "\n",
    "# list_avail_models()\n",
    "ss_tool = SemanticScholar()\n",
    "ss_recommendation = SS_Re()\n",
    "model_id = \"anthropic.claude-3-5-sonnet-20240620-v1:0\"\n",
    "llm = load_model(model_id)\n",
    "\n",
    "if llm:\n",
    "    print(f\"LLM loaded successfully: {llm}\")\n",
    "    print(f\"Type of LLM: {type(llm)}\")\n",
    "else:\n",
    "    print(\"Failed to load LLM.\")\n",
    "  \n",
    "# Define your agents\n",
    "researcher = Agent(\n",
    "  role='Retriever',\n",
    "  goal='retrieve and summarize related research',\n",
    "  backstory='An experienced researcher with great knowledge base in research area',\n",
    "  llm=llm,\n",
    "  # tool=[ss_tool],\n",
    ")\n",
    "id = \"a2933c8d0e152264d1cd25ca8248b25d4b49038b\"\n",
    "# Define your tasks\n",
    "research_task = Task(description=f'Search the most state-of-the-art papers in computer vision and summarize their ideas', agent=researcher, expected_output='Raw Data')\n",
    "\n",
    "# Form the crew with a sequential process\n",
    "report_crew = Crew(\n",
    "  agents=[researcher],\n",
    "  tasks=[research_task],\n",
    "  process=Process.sequential\n",
    ")\n",
    "\n",
    "# Execute the crew\n",
    "result = report_crew.kickoff()\n",
    "print(result)"
   ]
  },
  {
   "cell_type": "code",
   "execution_count": 14,
   "metadata": {},
   "outputs": [
    {
     "name": "stdout",
     "output_type": "stream",
     "text": [
      "Error: 403 - {\"message\":\"Forbidden\"}\n"
     ]
    }
   ],
   "source": [
    "import os\n",
    "import requests\n",
    "\n",
    "SEMANTIC_SCHOLAR_API_URL = \"https://api.semanticscholar.org/recommendations/v1/papers/forpaper\"\n",
    "api_key = os.getenv(\"X_API_KEY\")\n",
    "if not api_key:\n",
    "    print(\"API key is missing. Please set the X_API_KEY environment variable.\")\n",
    "headers = {\n",
    "    \"x-api-key\": api_key,\n",
    "    \"Content-Type\": \"application/json\",\n",
    "}\n",
    "\n",
    "# Create the payload with the paper ID\n",
    "params = {\n",
    "    \"paper_id\": \"a2933c8d0e152264d1cd25ca8248b25d4b49038b\",\n",
    "    \"fields\": \"title, abstract\",\n",
    "    \"limit\": 10,  # Number of recommendations to retrieve\n",
    "}\n",
    "\n",
    "# Make the POST request to the API\n",
    "response = requests.get(SEMANTIC_SCHOLAR_API_URL, headers=headers, params=params)\n",
    "\n",
    "if response.status_code == 200:\n",
    "    print(response.json())\n",
    "else:\n",
    "    print(f\"Error: {response.status_code} - {response.text}\")\n",
    "\n"
   ]
  },
  {
   "cell_type": "code",
   "execution_count": 9,
   "metadata": {},
   "outputs": [
    {
     "name": "stdout",
     "output_type": "stream",
     "text": [
      "Error: 403 - {\"message\":\"Forbidden\"}\n"
     ]
    }
   ],
   "source": [
    "SEMANTIC_SCHOLAR_API_URL = \"https://api.semanticscholar.org/graph/v1/paper/search\"\n",
    "api_key=os.getenv(\"X_API_KEY\")\n",
    "if not api_key:\n",
    "    print(\"API key is missing. Please set the X_API_KEY environment variable.\")\n",
    "headers = {\n",
    "    \"x-api-key\": api_key,  # Add your API key here if required\n",
    "    \"Content-Type\": \"application/json\",\n",
    "}\n",
    "\n",
    "params = {\n",
    "    \"query\": \"covid\",\n",
    "    \"fields\": \"title, abstract\",\n",
    "    \"limit\": 10  # Number of results to retrieve\n",
    "}\n",
    "\n",
    "response = requests.get(SEMANTIC_SCHOLAR_API_URL, headers=headers, params=params)\n",
    "if response.status_code == 200:\n",
    "    print(response.json())\n",
    "else:\n",
    "    print(f\"Error: {response.status_code} - {response.text}\")\n"
   ]
  },
  {
   "cell_type": "code",
   "execution_count": 13,
   "metadata": {},
   "outputs": [
    {
     "name": "stdout",
     "output_type": "stream",
     "text": [
      "Request failed with status code 403: {\"message\":\"Forbidden\"}\n"
     ]
    }
   ],
   "source": [
    "import requests\n",
    "\n",
    "# Define the API endpoint URL\n",
    "url = 'https://api.semanticscholar.org/graph/v1/paper/search'\n",
    "\n",
    "# More specific query parameter\n",
    "query_params = {'query': 'quantum computing'}\n",
    "\n",
    "# Directly define the API key (Reminder: Securely handle API keys in production environments)\n",
    "api_key = 'OrEfpQz3Wr7BWl55y23GxaLjpvcn1GR29BgWF6Bg'  # Replace with the actual API key\n",
    "\n",
    "# Define headers with API key\n",
    "headers = {'x-api-key': api_key}\n",
    "\n",
    "# Send the API request\n",
    "response = requests.get(url, params=query_params, headers=headers)\n",
    "\n",
    "# Check response status\n",
    "if response.status_code == 200:\n",
    "   response_data = response.json()\n",
    "   # Process and print the response data as needed\n",
    "   print(response_data)\n",
    "else:\n",
    "   print(f\"Request failed with status code {response.status_code}: {response.text}\")"
   ]
  },
  {
   "cell_type": "code",
   "execution_count": null,
   "metadata": {},
   "outputs": [],
   "source": []
  }
 ],
 "metadata": {
  "kernelspec": {
   "display_name": "crewai_review_system",
   "language": "python",
   "name": "python3"
  },
  "language_info": {
   "codemirror_mode": {
    "name": "ipython",
    "version": 3
   },
   "file_extension": ".py",
   "mimetype": "text/x-python",
   "name": "python",
   "nbconvert_exporter": "python",
   "pygments_lexer": "ipython3",
   "version": "3.11.9"
  }
 },
 "nbformat": 4,
 "nbformat_minor": 2
}
