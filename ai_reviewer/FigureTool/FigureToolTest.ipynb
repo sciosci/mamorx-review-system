{
 "cells": [
  {
   "cell_type": "code",
   "execution_count": null,
   "metadata": {},
   "outputs": [],
   "source": [
    "from FigureTool import FigureTool\n",
    "from anthropic import AnthropicBedrock\n",
    "\n",
    "sample_agent = FigureTool()\n",
    "\n",
    "AWS_ACCESS_KEY = \"AWS_ACCESS_KEY\"\n",
    "AWS_SECRET_KEY = \"AWS_SECRET_KEY\"\n",
    "AWS_REGION = \"AWS_REGION\"\n",
    "\n",
    "## Claude\n",
    "model_id = \"anthropic.claude-3-5-sonnet-20240620-v1:0\"\n",
    "client = AnthropicBedrock(\n",
    "        aws_access_key=AWS_ACCESS_KEY,  \n",
    "        aws_secret_key=AWS_SECRET_KEY,  \n",
    "        aws_region=AWS_REGION\n",
    "    )"
   ]
  },
  {
   "cell_type": "code",
   "execution_count": null,
   "metadata": {},
   "outputs": [],
   "source": [
    "input_pdf_path = \"INPUT_PDF_PATH\"\n",
    "\n",
    "test_title = \"PAPER_TITLE\"\n",
    "test_abstract = '''PAPER_ABSTRACT'''\n",
    "\n",
    "argument = {\n",
    "    \"title\": test_title,\n",
    "    \"abstract\": test_abstract\n",
    "}"
   ]
  },
  {
   "cell_type": "code",
   "execution_count": null,
   "metadata": {},
   "outputs": [],
   "source": [
    "image_caption_dict = sample_agent.extract_figures_and_captions(input_pdf_path)\n",
    "results = sample_agent.assess_figures_and_captions(client, argument, image_caption_dict)"
   ]
  },
  {
   "cell_type": "code",
   "execution_count": null,
   "metadata": {},
   "outputs": [],
   "source": [
    "print(results)"
   ]
  },
  {
   "cell_type": "code",
   "execution_count": null,
   "metadata": {},
   "outputs": [],
   "source": []
  },
  {
   "cell_type": "code",
   "execution_count": null,
   "metadata": {},
   "outputs": [],
   "source": []
  }
 ],
 "metadata": {
  "kernelspec": {
   "display_name": "figure-agent",
   "language": "python",
   "name": "python3"
  },
  "language_info": {
   "codemirror_mode": {
    "name": "ipython",
    "version": 3
   },
   "file_extension": ".py",
   "mimetype": "text/x-python",
   "name": "python",
   "nbconvert_exporter": "python",
   "pygments_lexer": "ipython3",
   "version": "3.11.9"
  }
 },
 "nbformat": 4,
 "nbformat_minor": 2
}
